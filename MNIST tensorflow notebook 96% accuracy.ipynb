{
 "cells": [
  {
   "cell_type": "code",
   "execution_count": 2,
   "metadata": {},
   "outputs": [],
   "source": [
    "import tensorflow as tf;\n",
    "import matplotlib.pyplot as plt;\n",
    "import cv2;\n",
    "import numpy as np;"
   ]
  },
  {
   "cell_type": "markdown",
   "metadata": {},
   "source": [
    "# These steps are just for including the dataset (MNIST Dataset)"
   ]
  },
  {
   "cell_type": "code",
   "execution_count": 4,
   "metadata": {},
   "outputs": [
    {
     "name": "stdout",
     "output_type": "stream",
     "text": [
      "Extracting MNIST_data/train-images-idx3-ubyte.gz\n",
      "Extracting MNIST_data/train-labels-idx1-ubyte.gz\n",
      "Extracting MNIST_data/t10k-images-idx3-ubyte.gz\n",
      "Extracting MNIST_data/t10k-labels-idx1-ubyte.gz\n"
     ]
    }
   ],
   "source": [
    "# Now we are loading the MNIST data.......\n",
    "from tensorflow.examples.tutorials.mnist import input_data;\n",
    "mnist=input_data.read_data_sets('MNIST_data/',one_hot=True)"
   ]
  },
  {
   "cell_type": "code",
   "execution_count": 9,
   "metadata": {},
   "outputs": [
    {
     "name": "stdout",
     "output_type": "stream",
     "text": [
      "<class 'numpy.ndarray'>\n"
     ]
    },
    {
     "data": {
      "image/png": "[encoded data removed]",
      "text/plain": [
       "<Figure size 432x288 with 1 Axes>"
      ]
     },
     "metadata": {
      "needs_background": "light"
     },
     "output_type": "display_data"
    }
   ],
   "source": [
    "first_image=mnist.train.images[5]\n",
    "#print(type(mnist.train.images[0]))\n",
    "first_image=first_image.reshape(28,28)\n",
    "plt.imshow(first_image);\n",
    "plt.show();"
   ]
  },
  {
   "cell_type": "markdown",
   "metadata": {},
   "source": [
    "# Now we will be making just initializing random vlaue to the weights..."
   ]
  },
  {
   "cell_type": "code",
   "execution_count": 10,
   "metadata": {},
   "outputs": [],
   "source": [
    "n_hidden_1=256;\n",
    "n_hidden_2=256;\n",
    "n_input=784 # because there are 784 properties or pixels..........\n",
    "n_class=10;"
   ]
  },
  {
   "cell_type": "code",
   "execution_count": 11,
   "metadata": {},
   "outputs": [
    {
     "name": "stdout",
     "output_type": "stream",
     "text": [
      "WARNING:tensorflow:From /Applications/anaconda3/lib/python3.7/site-packages/tensorflow/python/framework/op_def_library.py:263: colocate_with (from tensorflow.python.framework.ops) is deprecated and will be removed in a future version.\n",
      "Instructions for updating:\n",
      "Colocations handled automatically by placer.\n"
     ]
    }
   ],
   "source": [
    "# its completely based on us that whether we want to make a dictionary containing all the weights for each layer or\n",
    "# we want just different lists for each layer......and dictionary will be a lot helpful to keep a track........\n",
    "weights={\"h1\":tf.Variable(tf.random_normal([n_input,n_hidden_1])),\n",
    "         \"h2\":tf.Variable(tf.random_normal([n_hidden_1,n_hidden_2])),\n",
    "         \"output\":tf.Variable(tf.random_normal([n_hidden_2,n_class]))\n",
    "        };\n",
    "\n",
    "biases={\"h1\":tf.Variable(tf.random_normal([n_hidden_1])),\n",
    "        \"h2\":tf.Variable(tf.random_normal([n_hidden_2])),\n",
    "        \"output\":tf.Variable(tf.random_normal([n_class]))\n",
    "       }"
   ]
  },
  {
   "cell_type": "code",
   "execution_count": 12,
   "metadata": {},
   "outputs": [],
   "source": [
    "# now we will be doing the forward propogation.....\n",
    "def forward_propogation(x,weights,biases):\n",
    "    in_layer1=tf.add(tf.matmul(x,weights['h1']),biases['h1']);\n",
    "    out_layer1=tf.nn.relu(in_layer1);\n",
    "    \n",
    "    in_layer2=tf.add(tf.matmul(out_layer1,weights['h2']),biases['h2']);\n",
    "    out_layer2=tf.nn.relu(in_layer2);\n",
    "    \n",
    "    output=tf.add(tf.matmul(out_layer2,weights['output']),biases['output']);\n",
    "    return output;\n",
    "    "
   ]
  },
  {
   "cell_type": "code",
   "execution_count": 15,
   "metadata": {},
   "outputs": [],
   "source": [
    "x=tf.placeholder(\"float32\",[None,n_input]);\n",
    "y=tf.placeholder(tf.int32,[None,n_class])# noe we need our y as int the form of one hot encoding.......and that's\n",
    "# why we are passing n_classes in this funcution....."
   ]
  },
  {
   "cell_type": "code",
   "execution_count": 16,
   "metadata": {},
   "outputs": [],
   "source": [
    "pred = forward_propogation(x, weights, biases)\n",
    "cost=tf.reduce_mean(tf.nn.softmax_cross_entropy_with_logits(logits=pred,labels=y))"
   ]
  },
  {
   "cell_type": "code",
   "execution_count": 17,
   "metadata": {},
   "outputs": [],
   "source": [
    "optimizer=tf.train.AdamOptimizer(learning_rate=0.01);\n",
    "optimize=optimizer.minimize(cost);\n",
    "sess=tf.Session();\n",
    "sess.run(tf.global_variables_initializer());"
   ]
  },
  {
   "cell_type": "code",
   "execution_count": 18,
   "metadata": {},
   "outputs": [
    {
     "ename": "TypeError",
     "evalue": "cannot unpack non-iterable NoneType object",
     "output_type": "error",
     "traceback": [
      "\u001b[0;31m---------------------------------------------------------------------------\u001b[0m",
      "\u001b[0;31mTypeError\u001b[0m                                 Traceback (most recent call last)",
      "\u001b[0;32m<ipython-input-18-1454f293d7bc>\u001b[0m in \u001b[0;36m<module>\u001b[0;34m\u001b[0m\n\u001b[1;32m      5\u001b[0m     \u001b[0;32mfor\u001b[0m \u001b[0mj\u001b[0m \u001b[0;32min\u001b[0m \u001b[0mrange\u001b[0m\u001b[0;34m(\u001b[0m\u001b[0mnum_batches\u001b[0m\u001b[0;34m)\u001b[0m\u001b[0;34m:\u001b[0m\u001b[0;34m\u001b[0m\u001b[0;34m\u001b[0m\u001b[0m\n\u001b[1;32m      6\u001b[0m         \u001b[0mbatch_x\u001b[0m\u001b[0;34m,\u001b[0m \u001b[0mbatch_y\u001b[0m \u001b[0;34m=\u001b[0m \u001b[0mmnist\u001b[0m\u001b[0;34m.\u001b[0m\u001b[0mtrain\u001b[0m\u001b[0;34m.\u001b[0m\u001b[0mnext_batch\u001b[0m\u001b[0;34m(\u001b[0m\u001b[0mbatch_size\u001b[0m\u001b[0;34m)\u001b[0m\u001b[0;34m\u001b[0m\u001b[0;34m\u001b[0m\u001b[0m\n\u001b[0;32m----> 7\u001b[0;31m         \u001b[0mc\u001b[0m\u001b[0;34m,\u001b[0m \u001b[0m_\u001b[0m \u001b[0;34m=\u001b[0m \u001b[0msess\u001b[0m\u001b[0;34m.\u001b[0m\u001b[0mrun\u001b[0m\u001b[0;34m(\u001b[0m\u001b[0moptimize\u001b[0m\u001b[0;34m,\u001b[0m \u001b[0mfeed_dict\u001b[0m\u001b[0;34m=\u001b[0m\u001b[0;34m{\u001b[0m\u001b[0mx\u001b[0m\u001b[0;34m:\u001b[0m\u001b[0mbatch_x\u001b[0m \u001b[0;34m,\u001b[0m \u001b[0my\u001b[0m\u001b[0;34m:\u001b[0m\u001b[0mbatch_y\u001b[0m\u001b[0;34m}\u001b[0m\u001b[0;34m)\u001b[0m\u001b[0;34m\u001b[0m\u001b[0;34m\u001b[0m\u001b[0m\n\u001b[0m\u001b[1;32m      8\u001b[0m         \u001b[0mtotal_cost\u001b[0m \u001b[0;34m+=\u001b[0m \u001b[0mc\u001b[0m\u001b[0;34m\u001b[0m\u001b[0;34m\u001b[0m\u001b[0m\n\u001b[1;32m      9\u001b[0m     \u001b[0mprint\u001b[0m\u001b[0;34m(\u001b[0m\u001b[0mtotal_cost\u001b[0m\u001b[0;34m)\u001b[0m\u001b[0;34m\u001b[0m\u001b[0;34m\u001b[0m\u001b[0m\n",
      "\u001b[0;31mTypeError\u001b[0m: cannot unpack non-iterable NoneType object"
     ]
    }
   ],
   "source": [
    "batch_size = 100\n",
    "for i in range(25):\n",
    "    num_batches = int(mnist.train.num_examples/batch_size)\n",
    "    total_cost = 0\n",
    "    for j in range(num_batches):\n",
    "        batch_x, batch_y = mnist.train.next_batch(batch_size)\n",
    "        c, _ = sess.run([cost,optimize], feed_dict={x:batch_x , y:batch_y}) # Here we r finding the cost just becasue \n",
    "        # in the future we need to find the total cost for one iteration otherwise we would jave just run the optimizer\n",
    "        # just like sess.run(optimizer,feed_dict={x: , y:})..........\n",
    "        total_cost += c\n",
    "    print(total_cost)"
   ]
  },
  {
   "cell_type": "code",
   "execution_count": 11,
   "metadata": {},
   "outputs": [
    {
     "data": {
      "text/plain": [
       "9594"
      ]
     },
     "execution_count": 11,
     "metadata": {},
     "output_type": "execute_result"
    }
   ],
   "source": [
    "predictions = tf.argmax(pred, 1)\n",
    "correct_labels = tf.argmax(y, 1)\n",
    "correct_predictions = tf.equal(predictions, correct_labels)\n",
    "predictions,correct_predictions  = sess.run([predictions, correct_predictions], feed_dict={x:mnist.test.images,\n",
    "                                              y:mnist.test.labels})\n",
    "correct_predictions.sum()"
   ]
  },
  {
   "cell_type": "code",
   "execution_count": 12,
   "metadata": {},
   "outputs": [
    {
     "data": {
      "image/png": "[encoded data removed]",
      "text/plain": [
       "<Figure size 432x288 with 1 Axes>"
      ]
     },
     "metadata": {
      "needs_background": "light"
     },
     "output_type": "display_data"
    },
    {
     "name": "stdout",
     "output_type": "stream",
     "text": [
      "NUMBER SHOWN IN THE IMAGE IS -> 0\n"
     ]
    }
   ],
   "source": [
    "img = cv2.imread('/Users/jatinkaushik/Desktop/0.jpeg',0) \n",
    "img=cv2.resize(img,(28,28));\n",
    "img = cv2.bitwise_not(img)\n",
    "plt.imshow(img);\n",
    "plt.show()\n",
    "ans=tf.argmax(pred,1);\n",
    "img=img.reshape(1,784);\n",
    "symbol=sess.run([ans],feed_dict={x:img})\n",
    "print(\"NUMBER SHOWN IN THE IMAGE IS ->\",symbol[0][0])"
   ]
  },
  {
   "cell_type": "code",
   "execution_count": 13,
   "metadata": {},
   "outputs": [
    {
     "data": {
      "image/png": "[encoded data removed]",
      "text/plain": [
       "<Figure size 432x288 with 1 Axes>"
      ]
     },
     "metadata": {
      "needs_background": "light"
     },
     "output_type": "display_data"
    },
    {
     "name": "stdout",
     "output_type": "stream",
     "text": [
      "NUMBER SHOWN IN THE IMAGE IS -> 8\n"
     ]
    }
   ],
   "source": [
    "img = cv2.imread('/Users/jatinkaushik/Desktop/1.jpeg',0) \n",
    "img=cv2.resize(img,(28,28));\n",
    "img = cv2.bitwise_not(img)\n",
    "plt.imshow(img);\n",
    "plt.show()\n",
    "ans=tf.argmax(pred,1);\n",
    "img=img.reshape(1,784);\n",
    "symbol=sess.run([ans],feed_dict={x:img})\n",
    "print(\"NUMBER SHOWN IN THE IMAGE IS ->\",symbol[0][0])"
   ]
  },
  {
   "cell_type": "code",
   "execution_count": 14,
   "metadata": {},
   "outputs": [
    {
     "data": {
      "image/png": "[encoded data removed]",
      "text/plain": [
       "<Figure size 432x288 with 1 Axes>"
      ]
     },
     "metadata": {
      "needs_background": "light"
     },
     "output_type": "display_data"
    },
    {
     "name": "stdout",
     "output_type": "stream",
     "text": [
      "NUMBER SHOWN IN THE IMAGE IS -> 2\n"
     ]
    }
   ],
   "source": [
    "img = cv2.imread('/Users/jatinkaushik/Desktop/2.jpeg',0) \n",
    "img=cv2.resize(img,(28,28));\n",
    "img = cv2.bitwise_not(img)\n",
    "plt.imshow(img);\n",
    "plt.show()\n",
    "ans=tf.argmax(pred,1);\n",
    "img=img.reshape(1,784);\n",
    "symbol=sess.run([ans],feed_dict={x:img})\n",
    "print(\"NUMBER SHOWN IN THE IMAGE IS ->\",symbol[0][0])"
   ]
  },
  {
   "cell_type": "code",
   "execution_count": 15,
   "metadata": {},
   "outputs": [
    {
     "data": {
      "image/png": "[encoded data removed]",
      "text/plain": [
       "<Figure size 432x288 with 1 Axes>"
      ]
     },
     "metadata": {
      "needs_background": "light"
     },
     "output_type": "display_data"
    },
    {
     "name": "stdout",
     "output_type": "stream",
     "text": [
      "NUMBER SHOWN IN THE IMAGE IS -> 3\n"
     ]
    }
   ],
   "source": [
    "img = cv2.imread('/Users/jatinkaushik/Desktop/3.jpeg',0) \n",
    "img=cv2.resize(img,(28,28));\n",
    "img = cv2.bitwise_not(img)\n",
    "plt.imshow(img);\n",
    "plt.show()\n",
    "ans=tf.argmax(pred,1);\n",
    "img=img.reshape(1,784);\n",
    "symbol=sess.run([ans],feed_dict={x:img})\n",
    "print(\"NUMBER SHOWN IN THE IMAGE IS ->\",symbol[0][0])"
   ]
  },
  {
   "cell_type": "code",
   "execution_count": 16,
   "metadata": {},
   "outputs": [
    {
     "data": {
      "image/png": "[encoded data removed]",
      "text/plain": [
       "<Figure size 432x288 with 1 Axes>"
      ]
     },
     "metadata": {
      "needs_background": "light"
     },
     "output_type": "display_data"
    },
    {
     "name": "stdout",
     "output_type": "stream",
     "text": [
      "NUMBER SHOWN IN THE IMAGE IS -> 4\n"
     ]
    }
   ],
   "source": [
    "img = cv2.imread('/Users/jatinkaushik/Desktop/4.jpeg',0) \n",
    "img=cv2.resize(img,(28,28));\n",
    "img = cv2.bitwise_not(img)\n",
    "plt.imshow(img);\n",
    "plt.show()\n",
    "ans=tf.argmax(pred,1);\n",
    "img=img.reshape(1,784);\n",
    "symbol=sess.run([ans],feed_dict={x:img})\n",
    "print(\"NUMBER SHOWN IN THE IMAGE IS ->\",symbol[0][0])"
   ]
  },
  {
   "cell_type": "code",
   "execution_count": 17,
   "metadata": {},
   "outputs": [
    {
     "data": {
      "image/png": "[encoded data removed]",
      "text/plain": [
       "<Figure size 432x288 with 1 Axes>"
      ]
     },
     "metadata": {
      "needs_background": "light"
     },
     "output_type": "display_data"
    },
    {
     "name": "stdout",
     "output_type": "stream",
     "text": [
      "NUMBER SHOWN IN THE IMAGE IS -> 5\n"
     ]
    }
   ],
   "source": [
    "img = cv2.imread('/Users/jatinkaushik/Desktop/5.jpeg',0) \n",
    "img=cv2.resize(img,(28,28));\n",
    "img = cv2.bitwise_not(img)\n",
    "plt.imshow(img);\n",
    "plt.show()\n",
    "ans=tf.argmax(pred,1);\n",
    "img=img.reshape(1,784);\n",
    "symbol=sess.run([ans],feed_dict={x:img})\n",
    "print(\"NUMBER SHOWN IN THE IMAGE IS ->\",symbol[0][0])"
   ]
  },
  {
   "cell_type": "code",
   "execution_count": 18,
   "metadata": {},
   "outputs": [
    {
     "data": {
      "image/png": "[encoded data removed]",
      "text/plain": [
       "<Figure size 432x288 with 1 Axes>"
      ]
     },
     "metadata": {
      "needs_background": "light"
     },
     "output_type": "display_data"
    },
    {
     "name": "stdout",
     "output_type": "stream",
     "text": [
      "NUMBER SHOWN IN THE IMAGE IS -> 8\n"
     ]
    }
   ],
   "source": [
    "img = cv2.imread('/Users/jatinkaushik/Desktop/6.jpeg',0) \n",
    "img=cv2.resize(img,(28,28));\n",
    "img = cv2.bitwise_not(img)\n",
    "plt.imshow(img);\n",
    "plt.show()\n",
    "ans=tf.argmax(pred,1);\n",
    "img=img.reshape(1,784);\n",
    "symbol=sess.run([ans],feed_dict={x:img})\n",
    "print(\"NUMBER SHOWN IN THE IMAGE IS ->\",symbol[0][0])"
   ]
  },
  {
   "cell_type": "code",
   "execution_count": 19,
   "metadata": {},
   "outputs": [
    {
     "data": {
      "image/png": "[encoded data removed]",
      "text/plain": [
       "<Figure size 432x288 with 1 Axes>"
      ]
     },
     "metadata": {
      "needs_background": "light"
     },
     "output_type": "display_data"
    },
    {
     "name": "stdout",
     "output_type": "stream",
     "text": [
      "NUMBER SHOWN IN THE IMAGE IS -> 8\n"
     ]
    }
   ],
   "source": [
    "img = cv2.imread('/Users/jatinkaushik/Desktop/7.jpeg',0) \n",
    "img=cv2.resize(img,(28,28));\n",
    "img = cv2.bitwise_not(img)\n",
    "plt.imshow(img);\n",
    "plt.show()\n",
    "ans=tf.argmax(pred,1);\n",
    "img=img.reshape(1,784);\n",
    "symbol=sess.run([ans],feed_dict={x:img})\n",
    "print(\"NUMBER SHOWN IN THE IMAGE IS ->\",symbol[0][0])"
   ]
  },
  {
   "cell_type": "code",
   "execution_count": 20,
   "metadata": {},
   "outputs": [
    {
     "data": {
      "image/png": "[encoded data removed]",
      "text/plain": [
       "<Figure size 432x288 with 1 Axes>"
      ]
     },
     "metadata": {
      "needs_background": "light"
     },
     "output_type": "display_data"
    },
    {
     "name": "stdout",
     "output_type": "stream",
     "text": [
      "NUMBER SHOWN IN THE IMAGE IS -> 8\n"
     ]
    }
   ],
   "source": [
    "img = cv2.imread('/Users/jatinkaushik/Desktop/8.jpeg',0) \n",
    "img=cv2.resize(img,(28,28));\n",
    "img = cv2.bitwise_not(img)\n",
    "plt.imshow(img);\n",
    "plt.show()\n",
    "ans=tf.argmax(pred,1);\n",
    "img=img.reshape(1,784);\n",
    "symbol=sess.run([ans],feed_dict={x:img})\n",
    "print(\"NUMBER SHOWN IN THE IMAGE IS ->\",symbol[0][0])"
   ]
  },
  {
   "cell_type": "code",
   "execution_count": 21,
   "metadata": {},
   "outputs": [
    {
     "data": {
      "image/png": "[encoded data removed]",
      "text/plain": [
       "<Figure size 432x288 with 1 Axes>"
      ]
     },
     "metadata": {
      "needs_background": "light"
     },
     "output_type": "display_data"
    },
    {
     "name": "stdout",
     "output_type": "stream",
     "text": [
      "NUMBER SHOWN IN THE IMAGE IS -> 0\n"
     ]
    }
   ],
   "source": [
    "img = cv2.imread('/Users/jatinkaushik/Desktop/9.jpeg',0) \n",
    "img=cv2.resize(img,(28,28));\n",
    "img = cv2.bitwise_not(img)\n",
    "plt.imshow(img);\n",
    "#img = cv2.bitwise_not(img)\n",
    "plt.show()\n",
    "ans=tf.argmax(pred,1);\n",
    "img=img.reshape(1,784);\n",
    "symbol=sess.run([ans],feed_dict={x:img})\n",
    "print(\"NUMBER SHOWN IN THE IMAGE IS ->\",symbol[0][0])"
   ]
  },
  {
   "cell_type": "code",
   "execution_count": 30,
   "metadata": {},
   "outputs": [],
   "source": [
    "\n",
    "from PIL import ImageTk, Image, ImageDraw\n",
    "import PIL\n",
    "from tkinter import *\n",
    "\n",
    "width = 500\n",
    "height = 500\n",
    "white = (225,225,225)\n",
    "black = (0,0,0)\n",
    "# creating objec of class DigitReco \n",
    " \n",
    "\n",
    "def save():\n",
    "    filename = \"image56.jpg\"\n",
    "    image1.save(filename)\n",
    "\n",
    "def paint(event):\n",
    "    x1, y1 = (event.x - 1), (event.y - 1)\n",
    "    x2, y2 = (event.x + 1), (event.y + 1)\n",
    "    cv.create_oval(x1, y1, x2, y2, fill = 'white',width=5)\n",
    "    draw.line([x1, y1, x2, y2],fill = 'white',width=5)\n",
    "    \n",
    " \n",
    "root = Tk()\n",
    "cv = Canvas(root, width=width, height=height, bg='white')\n",
    "cv.pack()\n",
    "\n",
    "#memory save\n",
    "\n",
    "image1 = PIL.Image.new(\"RGB\", (width, height),black)\n",
    "draw = ImageDraw.Draw(image1)\n",
    "\n",
    "#draw\n",
    "cv.pack(expand=YES, fill= BOTH)\n",
    "cv.bind(\"<B1-Motion>\", paint)\n",
    "\n",
    "button=Button(text=\"save\",command=save)\n",
    "#button1=Button(text=\"Predict\",command=predictDigit)\n",
    "button.pack()\n",
    "root.mainloop()\n",
    "\n",
    "\n",
    "import cv2\n",
    "import tkinter\n",
    "from tkinter import filedialog\n",
    "\n",
    "def openImage():\n",
    "    global filePathName\n",
    "    global imagePtr\n",
    "    print(\"Opening Image...\")\n",
    "    #root = tkinter.Tk()\n",
    "    filePathName = filedialog.askopenfilename(initialdir = \"C:\\\\\",title = \"Select Image file\",filetypes =((\"jpeg files\",\"*.jpg\"),(\"gif files\",\"*.gif\"),(\"png files\",\"*.png\"),(\"All\",\"*.*\")))\n",
    "\n",
    "    print(filePathName)\n",
    "    imagePtr = cv.imread(filePathName,1) # 1 means with color info\n",
    "    # print(imagePtr)\n",
    "    height, width = imagePtr.shape[:2]\n",
    "    print(\"Width:\",width,\" Height:\",height)\n",
    "    cv.namedWindow(filePathName,cv2.WINDOW_AUTOSIZE)\n",
    "    #windowName = cv2.resizeWindow(filePathName,1920, 1080)\n",
    "    if(height < 1600):\n",
    "        imagePtr = cv.resize(imagePtr,None,fx=0.5,fy=0.5,interpolation=cv2.INTER_AREA)\n",
    "    elif(height < 2000 ):\n",
    "        imagePtr = cv.resize(imagePtr, None, fx=0.3, fy=0.3, interpolation=cv2.INTER_AREA)\n",
    "    else:\n",
    "        imagePtr = cv.resize(imagePtr, None, fx=0.25, fy=0.25, interpolation=cv2.INTER_AREA)\n",
    "    print(imagePtr)\n",
    "    cv.imshow(filePathName,imagePtr)\n",
    "    cv.waitKey(1)"
   ]
  },
  {
   "cell_type": "code",
   "execution_count": 31,
   "metadata": {},
   "outputs": [
    {
     "data": {
      "image/png": "[encoded data removed]",
      "text/plain": [
       "<Figure size 432x288 with 1 Axes>"
      ]
     },
     "metadata": {
      "needs_background": "light"
     },
     "output_type": "display_data"
    },
    {
     "data": {
      "image/png": "[encoded data removed]",
      "text/plain": [
       "<Figure size 432x288 with 1 Axes>"
      ]
     },
     "metadata": {
      "needs_background": "light"
     },
     "output_type": "display_data"
    },
    {
     "name": "stdout",
     "output_type": "stream",
     "text": [
      "NUMBER SHOWN IN THE IMAGE IS -> 3\n"
     ]
    }
   ],
   "source": [
    "img = cv2.imread('/Users/jatinkaushik/image56.jpg',0) \n",
    "plt.imshow(img)\n",
    "plt.show()\n",
    "img=cv2.resize(img,(28,28));\n",
    "#img[img>0]=1\n",
    "img = cv2.bitwise_not(img)\n",
    "plt.imshow(img);\n",
    "plt.show()\n",
    "ans=tf.argmax(pred,1);\n",
    "img=img.reshape(1,784);\n",
    "symbol=sess.run([ans],feed_dict={x:img})\n",
    "print(\"NUMBER SHOWN IN THE IMAGE IS ->\",symbol[0][0])"
   ]
  }
 ],
 "metadata": {
  "kernelspec": {
   "display_name": "Python 3",
   "language": "python",
   "name": "python3"
  },
  "language_info": {
   "codemirror_mode": {
    "name": "ipython",
    "version": 3
   },
   "file_extension": ".py",
   "mimetype": "text/x-python",
   "name": "python",
   "nbconvert_exporter": "python",
   "pygments_lexer": "ipython3",
   "version": "3.7.3"
  }
 },
 "nbformat": 4,
 "nbformat_minor": 2
}
